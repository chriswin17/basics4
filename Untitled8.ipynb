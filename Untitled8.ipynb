{
  "nbformat": 4,
  "nbformat_minor": 0,
  "metadata": {
    "colab": {
      "provenance": [],
      "authorship_tag": "ABX9TyNZWd7YfxjE6zwTwUwP7hgz",
      "include_colab_link": true
    },
    "kernelspec": {
      "name": "python3",
      "display_name": "Python 3"
    },
    "language_info": {
      "name": "python"
    }
  },
  "cells": [
    {
      "cell_type": "markdown",
      "metadata": {
        "id": "view-in-github",
        "colab_type": "text"
      },
      "source": [
        "<a href=\"https://colab.research.google.com/github/chriswin17/basics4/blob/main/Untitled8.ipynb\" target=\"_parent\"><img src=\"https://colab.research.google.com/assets/colab-badge.svg\" alt=\"Open In Colab\"/></a>"
      ]
    },
    {
      "cell_type": "code",
      "execution_count": 2,
      "metadata": {
        "id": "QeSPceq5qYVn",
        "colab": {
          "base_uri": "https://localhost:8080/"
        },
        "outputId": "f34014c0-0283-41a7-81dd-602a0c5e2169"
      },
      "outputs": [
        {
          "output_type": "stream",
          "name": "stdout",
          "text": [
            "Enter the number to display the corresponding multiplication table : 5\n",
            "1 * 5 = 5\n",
            "2 * 5 = 10\n",
            "3 * 5 = 15\n",
            "4 * 5 = 20\n",
            "5 * 5 = 25\n",
            "6 * 5 = 30\n",
            "7 * 5 = 35\n",
            "8 * 5 = 40\n",
            "9 * 5 = 45\n",
            "10 * 5 = 50\n"
          ]
        }
      ],
      "source": [
        "num=int(input(\"Enter the number to display the corresponding multiplication table : \"))\n",
        "for i in range(1,11):\n",
        "  print(i,\"*\",num,\"=\",i*num)"
      ]
    },
    {
      "cell_type": "code",
      "source": [
        "num=int(input())\n",
        "i=1\n",
        "while(i<=10):\n",
        "  print(i*num)\n",
        "  i=i+1"
      ],
      "metadata": {
        "colab": {
          "base_uri": "https://localhost:8080/"
        },
        "id": "5mVwGMAzwXkc",
        "outputId": "e6c45359-4a45-4955-a660-3aee57865c0d"
      },
      "execution_count": 3,
      "outputs": [
        {
          "output_type": "stream",
          "name": "stdout",
          "text": [
            "1\n",
            "1\n",
            "2\n",
            "3\n",
            "4\n",
            "5\n",
            "6\n",
            "7\n",
            "8\n",
            "9\n",
            "10\n"
          ]
        }
      ]
    },
    {
      "cell_type": "code",
      "source": [
        "num=input(\"Enter the number : \")\n",
        "k=0\n",
        "for i in num:\n",
        "  k=k+1\n",
        "print(k)"
      ],
      "metadata": {
        "colab": {
          "base_uri": "https://localhost:8080/"
        },
        "id": "hk-cV2OrzBYh",
        "outputId": "678b009a-0b0f-4f75-c16e-87830d3d4cbe"
      },
      "execution_count": 4,
      "outputs": [
        {
          "output_type": "stream",
          "name": "stdout",
          "text": [
            "Enter the number : 50\n",
            "2\n"
          ]
        }
      ]
    },
    {
      "cell_type": "code",
      "source": [
        "num=input(\"Enter the number \")\n",
        "for i in num:\n",
        "  print(i)"
      ],
      "metadata": {
        "colab": {
          "base_uri": "https://localhost:8080/"
        },
        "id": "Zfl39wQt24KO",
        "outputId": "df404bcb-0db9-45dc-bf2b-152ab08b3e8f"
      },
      "execution_count": 15,
      "outputs": [
        {
          "output_type": "stream",
          "name": "stdout",
          "text": [
            "Enter the number 12345\n",
            "1\n",
            "2\n",
            "3\n",
            "4\n",
            "5\n"
          ]
        }
      ]
    },
    {
      "cell_type": "code",
      "source": [
        "num=input(\"Enter the number : \")\n",
        "d=0\n",
        "for i in num:\n",
        "  #print(i)\n",
        "  d=d+1\n",
        "print(d)"
      ],
      "metadata": {
        "colab": {
          "base_uri": "https://localhost:8080/"
        },
        "id": "3W1KOnLw3EPt",
        "outputId": "7e7e8bae-2875-45b2-93e2-3d59c2ea1a53"
      },
      "execution_count": 31,
      "outputs": [
        {
          "output_type": "stream",
          "name": "stdout",
          "text": [
            "Enter the number : im 18 rn\n",
            "8\n"
          ]
        }
      ]
    },
    {
      "cell_type": "code",
      "source": [
        "num=input(\"Enter the number : \")\n",
        "d=0\n",
        "for i in num:\n",
        "  #print(i)\n",
        "  d=d+1\n",
        "  print(d)"
      ],
      "metadata": {
        "colab": {
          "base_uri": "https://localhost:8080/"
        },
        "id": "q2e-khD64cgj",
        "outputId": "72ac4245-80d9-41cf-93e1-508c225becf7"
      },
      "execution_count": 30,
      "outputs": [
        {
          "output_type": "stream",
          "name": "stdout",
          "text": [
            "Enter the number : i turned 18\n",
            "1\n",
            "2\n",
            "3\n",
            "4\n",
            "5\n",
            "6\n",
            "7\n",
            "8\n",
            "9\n",
            "10\n",
            "11\n"
          ]
        }
      ]
    },
    {
      "cell_type": "code",
      "source": [
        "string=input((\"Enter a string : \"))\n",
        "reversestring= \"\"\n",
        "for i in string:\n",
        "    reversestring = i + reversestring\n",
        "print(\"reverse string: \",reversestring)      \n",
        "if (string == reversestring):\n",
        "    print(\"The string is palindrome\")\n",
        "else:\n",
        "    print(\"The string is not palindrome\")"
      ],
      "metadata": {
        "colab": {
          "base_uri": "https://localhost:8080/"
        },
        "id": "8GVHknNh42y8",
        "outputId": "f803a945-6242-47fc-9397-ab119a80254b"
      },
      "execution_count": 39,
      "outputs": [
        {
          "output_type": "stream",
          "name": "stdout",
          "text": [
            "Enter a string : chriswin\n",
            "reverse string:  niwsirhc\n",
            "The string is not palindrome\n"
          ]
        }
      ]
    },
    {
      "cell_type": "code",
      "source": [
        "list=[\"Canada\",\"France\",\"Switzerland\",\"Germany\"]\n",
        "print(list)\n",
        "list.append(\"Germany\")\n"
      ],
      "metadata": {
        "colab": {
          "base_uri": "https://localhost:8080/"
        },
        "id": "mB8iXO469iFV",
        "outputId": "511c6476-0599-41a0-e675-02f4c7e74e2a"
      },
      "execution_count": 50,
      "outputs": [
        {
          "output_type": "stream",
          "name": "stdout",
          "text": [
            "['Canada', 'France', 'Switzerland', 'Germany']\n"
          ]
        }
      ]
    },
    {
      "cell_type": "code",
      "source": [
        "name=input(\"Enter the number : \")\n",
        "if name.isupper():\n",
        "  print(\"Upper case\")\n",
        "  print(name.lower())\n",
        "if name.islower():\n",
        "  print(\"lower case\")\n",
        "  print(name.upper()) "
      ],
      "metadata": {
        "colab": {
          "base_uri": "https://localhost:8080/"
        },
        "id": "xO8w7nKwBSbT",
        "outputId": "969a810b-03e8-4c67-feb3-8219a0502ecb"
      },
      "execution_count": 46,
      "outputs": [
        {
          "output_type": "stream",
          "name": "stdout",
          "text": [
            "Enter the number : chriswin\n",
            "lower case\n",
            "CHRISWIN\n"
          ]
        }
      ]
    },
    {
      "cell_type": "code",
      "source": [],
      "metadata": {
        "id": "UhNvztc4CR3y"
      },
      "execution_count": null,
      "outputs": []
    }
  ]
}