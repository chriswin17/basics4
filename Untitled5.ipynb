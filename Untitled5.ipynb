{
  "nbformat": 4,
  "nbformat_minor": 0,
  "metadata": {
    "colab": {
      "provenance": [],
      "authorship_tag": "ABX9TyO8q5D+KJsLzy/0rllxe9MX",
      "include_colab_link": true
    },
    "kernelspec": {
      "name": "python3",
      "display_name": "Python 3"
    },
    "language_info": {
      "name": "python"
    }
  },
  "cells": [
    {
      "cell_type": "markdown",
      "metadata": {
        "id": "view-in-github",
        "colab_type": "text"
      },
      "source": [
        "<a href=\"https://colab.research.google.com/github/chriswin17/basics4/blob/main/Untitled5.ipynb\" target=\"_parent\"><img src=\"https://colab.research.google.com/assets/colab-badge.svg\" alt=\"Open In Colab\"/></a>"
      ]
    },
    {
      "cell_type": "code",
      "source": [],
      "metadata": {
        "id": "BX0WVki7pxGJ"
      },
      "execution_count": null,
      "outputs": []
    },
    {
      "cell_type": "code",
      "execution_count": 17,
      "metadata": {
        "colab": {
          "base_uri": "https://localhost:8080/"
        },
        "id": "pwSL8wYAoC3c",
        "outputId": "9ea672c8-0ce5-4578-822f-90bccaabe0f1"
      },
      "outputs": [
        {
          "output_type": "stream",
          "name": "stdout",
          "text": [
            "Enter the passenger's name : Chriswin\n",
            "Enter the passenger's destination : Paris\n",
            "Enter the total number of passengers : 2\n",
            "Chriswin\n",
            "Paris\n",
            "2\n",
            "Passenger's name : Chriswin  ;  Passenger's destination : Paris  ;  Total number of passengers : 2\n"
          ]
        }
      ],
      "source": [
        "x=input(\"Enter the passenger's name : \")\n",
        "y=input(\"Enter the passenger's destination : \")\n",
        "z=input(\"Enter the total number of passengers : \")\n",
        "print(x)\n",
        "print(y)\n",
        "print(z)\n",
        "print(\"Passenger's name :\",x,\" ;  Passenger's destination :\",y,\" ;  Total number of passengers :\",z)"
      ]
    },
    {
      "cell_type": "code",
      "source": [
        "x=input(\"Enter the Passenger's name : \")\n",
        "y=input(\"Enter the Ticket Fare : \")\n",
        "print(x)\n",
        "print(y)\n",
        "print(\"Passenger's name : \",x,\"; Passenger's Ticket Fare\",y)"
      ],
      "metadata": {
        "colab": {
          "base_uri": "https://localhost:8080/"
        },
        "id": "yxc3cMTMtQvo",
        "outputId": "b0f48055-81d2-47c6-d547-a7668d1d81df"
      },
      "execution_count": 14,
      "outputs": [
        {
          "output_type": "stream",
          "name": "stdout",
          "text": [
            "Enter the Passenger's name : Chriswin\n",
            "Enter the Ticket Fare : 1500\n",
            "Chriswin\n",
            "1500\n",
            "Passenger's name :  Chriswin ; Passenger's Ticket Fare 1500\n"
          ]
        }
      ]
    },
    {
      "cell_type": "code",
      "source": [
        "x=int(input(\"Enter total fare : \"))\n",
        "if x>10000:\n",
        "  print(\"Eligible for Discount\")\n",
        "else:\n",
        "    print(\"Not eligible for Discount\")"
      ],
      "metadata": {
        "colab": {
          "base_uri": "https://localhost:8080/"
        },
        "id": "hD_DeP1ruAN_",
        "outputId": "5c8e2502-3719-4b52-8af5-426473d6408e"
      },
      "execution_count": 19,
      "outputs": [
        {
          "output_type": "stream",
          "name": "stdout",
          "text": [
            "Enter total fare : 12000\n",
            "Eligible for Discount\n"
          ]
        }
      ]
    },
    {
      "cell_type": "code",
      "source": [
        "x=int(input(\"Enter the total fare : \"))\n",
        "if x>15000:\n",
        "  print(\"Eligible for 20% Discount\")\n",
        "else:\n",
        "  print(\"Eligible for 10% Dicount\")  "
      ],
      "metadata": {
        "colab": {
          "base_uri": "https://localhost:8080/"
        },
        "id": "Jbrg_q4avdvv",
        "outputId": "3ad1ac73-db80-4196-c3c4-40002a2666b7"
      },
      "execution_count": 20,
      "outputs": [
        {
          "output_type": "stream",
          "name": "stdout",
          "text": [
            "Enter the total fare : 16000\n",
            "Eligible for 20% Discount\n"
          ]
        }
      ]
    },
    {
      "cell_type": "code",
      "source": [
        "x=int(input(\"Enter the total fare : \"))\n",
        "y=(x*20)/100\n",
        "if x>15000:\n",
        "  print(\"The total fare is dicounted at \",y)\n",
        "  print(x-y)\n",
        "y=(x*10)/100\n",
        "if x>10000:\n",
        "  print(\"The total fare is discounted at \",y)\n",
        "  print(x-y)\n",
        "y=(x*5)/100\n",
        "if x<10000:\n",
        "  print(\"The total fare is discounted at \",y)\n",
        "  print(x-y)"
      ],
      "metadata": {
        "colab": {
          "base_uri": "https://localhost:8080/"
        },
        "id": "mLOl4poRwYgg",
        "outputId": "6a2746c3-995b-4d2a-9bb9-6ceef4fa6483"
      },
      "execution_count": 36,
      "outputs": [
        {
          "output_type": "stream",
          "name": "stdout",
          "text": [
            "Enter the total fare : 5000\n",
            "The total fare is discounted at  250.0\n",
            "4750.0\n"
          ]
        }
      ]
    },
    {
      "cell_type": "code",
      "source": [
        "x=int(input(\"Enter a number \"))\n",
        "if x>0:\n",
        "  print(\"Positive\")\n",
        "if x<0:\n",
        "  print(\"Negative\")\n",
        "else:\n",
        "  print(\"Zero\")"
      ],
      "metadata": {
        "colab": {
          "base_uri": "https://localhost:8080/"
        },
        "id": "MvkoeT81xQnl",
        "outputId": "98f51d5c-f475-44bb-caf0-2999e683d001"
      },
      "execution_count": 42,
      "outputs": [
        {
          "output_type": "stream",
          "name": "stdout",
          "text": [
            "Enter a number -3\n",
            "Negative\n"
          ]
        }
      ]
    },
    {
      "cell_type": "code",
      "source": [
        "x=int(input(\"Age : \"))\n",
        "if x>=18:\n",
        "  print(\"Adult\")\n",
        "elif x>=13 and x<=19:\n",
        "  print(\"Teenager\")\n",
        "elif x>=6 and x<=12:\n",
        "  print(\"Kid\")\n",
        "elif x>=2 and x<=5:\n",
        "  print(\"Toddler\")\n",
        "else:\n",
        "  print(\"Infant\")"
      ],
      "metadata": {
        "colab": {
          "base_uri": "https://localhost:8080/"
        },
        "id": "KN0pYJ1a2bNY",
        "outputId": "c9cbf70d-ff16-4fc9-c76c-0b4e98aca73e"
      },
      "execution_count": 47,
      "outputs": [
        {
          "output_type": "stream",
          "name": "stdout",
          "text": [
            "Age : 17\n",
            "Teenager\n"
          ]
        }
      ]
    },
    {
      "cell_type": "code",
      "source": [
        "x=input(\"Passenger's initial \")\n",
        "if x==\"A\":\n",
        "  print(\"Vowel\")\n",
        "elif x==\"E\":\n",
        "  print(\"Vowel\")\n",
        "elif x==\"I\":\n",
        "  print(\"Vowel\")\n",
        "elif x==\"O\":\n",
        "  print(\"Vowel\")\n",
        "elif x==\"U\":\n",
        "  print(\"Vowel\")"
      ],
      "metadata": {
        "colab": {
          "base_uri": "https://localhost:8080/"
        },
        "id": "AG2rPgFH3qE7",
        "outputId": "19df64c5-9bd5-4f19-b719-5a96eb6d585f"
      },
      "execution_count": 50,
      "outputs": [
        {
          "output_type": "stream",
          "name": "stdout",
          "text": [
            "Passenger's initial A\n",
            "Vowel\n"
          ]
        }
      ]
    },
    {
      "cell_type": "code",
      "source": [
        "x=int(input(\"Enter the Starting Value \"))\n",
        "y=int(input(\"Enter the Ending Value \"))\n",
        "z=range(x,y)\n",
        "for a in z:\n",
        "  if a%2!=0 :\n",
        "    print(a)"
      ],
      "metadata": {
        "colab": {
          "base_uri": "https://localhost:8080/"
        },
        "id": "8ilc8tz260EC",
        "outputId": "c05cea9c-ced5-4e46-855e-e2f5e38855e0"
      },
      "execution_count": 58,
      "outputs": [
        {
          "output_type": "stream",
          "name": "stdout",
          "text": [
            "Enter the Starting Value 82\n",
            "Enter the Ending Value 86\n",
            "83\n",
            "85\n"
          ]
        }
      ]
    },
    {
      "cell_type": "code",
      "source": [
        "x=input(\"Enter your Name \")\n",
        "for a in x:\n",
        "  print(a)"
      ],
      "metadata": {
        "colab": {
          "base_uri": "https://localhost:8080/"
        },
        "id": "U3727xIf7kaM",
        "outputId": "896c34c2-f38b-406e-9999-cbf22ca15db4"
      },
      "execution_count": 60,
      "outputs": [
        {
          "output_type": "stream",
          "name": "stdout",
          "text": [
            "Enter your Name Chriswin\n",
            "C\n",
            "h\n",
            "r\n",
            "i\n",
            "s\n",
            "w\n",
            "i\n",
            "n\n"
          ]
        }
      ]
    },
    {
      "cell_type": "code",
      "source": [],
      "metadata": {
        "id": "zltNtFNl91CN"
      },
      "execution_count": null,
      "outputs": []
    }
  ]
}