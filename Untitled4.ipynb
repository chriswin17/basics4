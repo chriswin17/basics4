{
  "nbformat": 4,
  "nbformat_minor": 0,
  "metadata": {
    "colab": {
      "provenance": [],
      "authorship_tag": "ABX9TyNtmWaivo1ufgFJBcHdpe9B",
      "include_colab_link": true
    },
    "kernelspec": {
      "name": "python3",
      "display_name": "Python 3"
    },
    "language_info": {
      "name": "python"
    }
  },
  "cells": [
    {
      "cell_type": "markdown",
      "metadata": {
        "id": "view-in-github",
        "colab_type": "text"
      },
      "source": [
        "<a href=\"https://colab.research.google.com/github/chriswin17/basics4/blob/main/Untitled4.ipynb\" target=\"_parent\"><img src=\"https://colab.research.google.com/assets/colab-badge.svg\" alt=\"Open In Colab\"/></a>"
      ]
    },
    {
      "cell_type": "code",
      "source": [
        "name=input(\"Enter the name \")\n",
        "print(name)"
      ],
      "metadata": {
        "colab": {
          "base_uri": "https://localhost:8080/"
        },
        "id": "SoHqU4vKfbX4",
        "outputId": "f2648294-b616-47e1-c350-da2db715d13c"
      },
      "execution_count": 1,
      "outputs": [
        {
          "output_type": "stream",
          "name": "stdout",
          "text": [
            "Enter the name 25\n",
            "25\n"
          ]
        }
      ]
    },
    {
      "cell_type": "code",
      "source": [
        "m1=int(input(\"Enter the mark for subject 1 : \"))\n",
        "m2=int(input(\"Enter the mark for subject 2 : \"))\n",
        "m3=int(input(\"Enter the mark for subject 3 : \"))\n",
        "sum=m1+m2+m3\n",
        "print(\"The total mark is :\",sum)\n",
        "print(\"The average mark is :\",sum/3)"
      ],
      "metadata": {
        "colab": {
          "base_uri": "https://localhost:8080/"
        },
        "id": "rSYik68viZTP",
        "outputId": "f10b9869-41a7-4ea8-e1da-98e3ed0908d4"
      },
      "execution_count": 2,
      "outputs": [
        {
          "output_type": "stream",
          "name": "stdout",
          "text": [
            "Enter the mark for subject 1 : 34\n",
            "Enter the mark for subject 2 : 35\n",
            "Enter the mark for subject 3 : 36\n",
            "The total mark is : 105\n",
            "The average mark is : 35.0\n"
          ]
        }
      ]
    },
    {
      "cell_type": "code",
      "source": [
        "num1=int(input(\"Enter the first number \"))\n",
        "num2=int(input(\"Enter the second number \"))\n",
        "num3=int(input(\"Enter the third number \"))\n",
        "if num1>num2:\n",
        "  print(\"The largest number is \",num1)\n",
        "if num1<num2:\n",
        "  print(\"The largest number is \",num2)\n",
        "if num3>num1:\n",
        "  print(\"The largest number is \",num3)\n",
        "if num3>num2:\n",
        "  print(\"The largest number is \",num3)"
      ],
      "metadata": {
        "colab": {
          "base_uri": "https://localhost:8080/"
        },
        "id": "eONp9pbjjteE",
        "outputId": "30c33694-609e-42d3-a44e-c03eb13ea869"
      },
      "execution_count": 3,
      "outputs": [
        {
          "output_type": "stream",
          "name": "stdout",
          "text": [
            "Enter the first number 5\n",
            "Enter the second number 8\n",
            "Enter the third number 4\n",
            "The largest number is  8\n"
          ]
        }
      ]
    },
    {
      "cell_type": "code",
      "source": [
        "num1=int(input(\"Enter the first number \"))\n",
        "num2=int(input(\"Enter the second number \"))\n",
        "num3=int(input(\"Enter the third number \"))\n",
        "if num1>num2 and num1>num3:\n",
        "  print(\"The largest number is \",num1)\n",
        "if num2>num1 and num2>num3:\n",
        "  print(\"The largest is \",num2)\n",
        "else:\n",
        "  print(\"The largest number is \",num3)"
      ],
      "metadata": {
        "colab": {
          "base_uri": "https://localhost:8080/"
        },
        "id": "eECVlb8Qmn9k",
        "outputId": "404f1514-7848-4683-a7a8-0dd5b8973672"
      },
      "execution_count": 4,
      "outputs": [
        {
          "output_type": "stream",
          "name": "stdout",
          "text": [
            "Enter the first number 4\n",
            "Enter the second number 7\n",
            "Enter the third number 8\n",
            "The largest number is  8\n"
          ]
        }
      ]
    },
    {
      "cell_type": "code",
      "source": [
        "n1=int(input(\"Enter the number \"))\n",
        "if n1%2 !=0:\n",
        "  print(\"odd\")\n",
        "else:\n",
        "  print(\"even\")"
      ],
      "metadata": {
        "colab": {
          "base_uri": "https://localhost:8080/"
        },
        "id": "05STu5-OuKJP",
        "outputId": "e9b1439f-152d-4f68-f4cb-429f687ff51e"
      },
      "execution_count": 7,
      "outputs": [
        {
          "output_type": "stream",
          "name": "stdout",
          "text": [
            "Enter the number 2\n",
            "even\n"
          ]
        }
      ]
    },
    {
      "cell_type": "code",
      "source": [
        "m1=int(input(\"enter the number \"))\n",
        "if m1%2 !=0:\n",
        " print(\"odd\")\n",
        "else:\n",
        " print(\"even\")"
      ],
      "metadata": {
        "colab": {
          "base_uri": "https://localhost:8080/"
        },
        "outputId": "31e35288-b131-4211-9a6a-4505644b64e1",
        "id": "BjKePshRyjTB"
      },
      "execution_count": 8,
      "outputs": [
        {
          "output_type": "stream",
          "name": "stdout",
          "text": [
            "enter the number 3\n",
            "odd\n"
          ]
        }
      ]
    },
    {
      "cell_type": "code",
      "source": [
        "for i in range(1,11):\n",
        "  print(i)"
      ],
      "metadata": {
        "colab": {
          "base_uri": "https://localhost:8080/"
        },
        "id": "P557COUyylQc",
        "outputId": "e7c5b0dc-bc22-43f8-b472-023e64de7513"
      },
      "execution_count": 10,
      "outputs": [
        {
          "output_type": "stream",
          "name": "stdout",
          "text": [
            "1\n",
            "2\n",
            "3\n",
            "4\n",
            "5\n",
            "6\n",
            "7\n",
            "8\n",
            "9\n",
            "10\n"
          ]
        }
      ]
    },
    {
      "cell_type": "code",
      "source": [
        "for i in range(1,11):\n",
        " if i%2 ==0:\n",
        "  print(i) "
      ],
      "metadata": {
        "colab": {
          "base_uri": "https://localhost:8080/"
        },
        "id": "4i4942Tfz9eE",
        "outputId": "063fae42-40f6-4504-b8f8-a52e7b79215c"
      },
      "execution_count": 12,
      "outputs": [
        {
          "output_type": "stream",
          "name": "stdout",
          "text": [
            "2\n",
            "4\n",
            "6\n",
            "8\n",
            "10\n"
          ]
        }
      ]
    },
    {
      "cell_type": "code",
      "source": [
        "for i in range(1,11):\n",
        "  print(i,'* 5', '=', i*5)"
      ],
      "metadata": {
        "colab": {
          "base_uri": "https://localhost:8080/"
        },
        "id": "T6TJDjZu06Ci",
        "outputId": "d47948c6-8af5-4247-dc7f-984ed28d9b2e"
      },
      "execution_count": 16,
      "outputs": [
        {
          "output_type": "stream",
          "name": "stdout",
          "text": [
            "1 * 5 = 5\n",
            "2 * 5 = 10\n",
            "3 * 5 = 15\n",
            "4 * 5 = 20\n",
            "5 * 5 = 25\n",
            "6 * 5 = 30\n",
            "7 * 5 = 35\n",
            "8 * 5 = 40\n",
            "9 * 5 = 45\n",
            "10 * 5 = 50\n"
          ]
        }
      ]
    },
    {
      "cell_type": "code",
      "source": [],
      "metadata": {
        "id": "hCcYMGry1p41"
      },
      "execution_count": null,
      "outputs": []
    }
  ]
}