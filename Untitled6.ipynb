{
  "nbformat": 4,
  "nbformat_minor": 0,
  "metadata": {
    "colab": {
      "provenance": [],
      "authorship_tag": "ABX9TyPeroQij/f3tSOcBFgMECd5",
      "include_colab_link": true
    },
    "kernelspec": {
      "name": "python3",
      "display_name": "Python 3"
    },
    "language_info": {
      "name": "python"
    }
  },
  "cells": [
    {
      "cell_type": "markdown",
      "metadata": {
        "id": "view-in-github",
        "colab_type": "text"
      },
      "source": [
        "<a href=\"https://colab.research.google.com/github/chriswin17/basics4/blob/main/Untitled6.ipynb\" target=\"_parent\"><img src=\"https://colab.research.google.com/assets/colab-badge.svg\" alt=\"Open In Colab\"/></a>"
      ]
    },
    {
      "cell_type": "code",
      "execution_count": 3,
      "metadata": {
        "colab": {
          "base_uri": "https://localhost:8080/"
        },
        "id": "EVIT7biegnXp",
        "outputId": "f7226a62-a76a-40f1-90e8-d6e51a971b0e"
      },
      "outputs": [
        {
          "output_type": "stream",
          "name": "stdout",
          "text": [
            "-10\n",
            "Absolute value of  10 is 10\n"
          ]
        }
      ],
      "source": [
        "num=int(input())\n",
        "if (num>0):\n",
        "  print(\"Absolute value of \", num, \"is\",num)\n",
        "else:\n",
        "  num=num*(-1)\n",
        "  print(\"Absolute value of \", num, \"is\",num)\n"
      ]
    },
    {
      "cell_type": "code",
      "source": [
        "mark=int(input(\"Enter your mark \"))\n",
        "if(mark<25):\n",
        "  print(\"Your grade is F\")\n",
        "elif(mark>=25 and mark<=45):\n",
        "  print(\"Your grade is E\")\n",
        "elif(mark>=45 and mark<=50):\n",
        "  print(\"Your grade is D\")\n",
        "elif(mark>=50 and mark<=60):\n",
        "  print(\"Your grade is C\")\n",
        "elif(mark>=60 and mark<=80):\n",
        "  print(\"Your grade is B\")\n",
        "else:\n",
        "  print(\"Your grade is A\")"
      ],
      "metadata": {
        "colab": {
          "base_uri": "https://localhost:8080/"
        },
        "id": "CpV88smmkyrX",
        "outputId": "51cc6cc3-c8e2-4f6c-91e8-89268e22d22c"
      },
      "execution_count": 11,
      "outputs": [
        {
          "output_type": "stream",
          "name": "stdout",
          "text": [
            "Enter your mark 81\n",
            "Your grade is A\n"
          ]
        }
      ]
    },
    {
      "cell_type": "code",
      "source": [
        "n1=int(input(\"Present days \"))\n",
        "n2=int(input(\"Total days \"))\n",
        "p=n1/n2*100\n",
        "print(p)\n",
        "if p>75:\n",
        "  print(\"Student is allowed to sit in Exam\")\n",
        "else:\n",
        "  print(\"Student is not allowed to sit in exam\")\n",
        "  "
      ],
      "metadata": {
        "colab": {
          "base_uri": "https://localhost:8080/"
        },
        "id": "uzgbvmP2osTI",
        "outputId": "8e59ccee-a658-4225-b60a-c2c2d7b5493e"
      },
      "execution_count": 12,
      "outputs": [
        {
          "output_type": "stream",
          "name": "stdout",
          "text": [
            "Present days 20\n",
            "Total days 25\n",
            "80.0\n",
            "Student is allowed to sit in Exam\n"
          ]
        }
      ]
    },
    {
      "cell_type": "code",
      "source": [
        "print(\"1.addition\")\n",
        "print(\"2.subtraction\")\n",
        "print(\"3.multiplication\")\n",
        "print(\"4.division\")\n",
        "print(\"5.modulus\")\n",
        "print(\"6.floor division\")\n",
        "print(\"7.exponent\")"
      ],
      "metadata": {
        "colab": {
          "base_uri": "https://localhost:8080/"
        },
        "id": "KJtCLDqvu0Tb",
        "outputId": "af10e76f-f9f9-424e-b715-559f388c8f77"
      },
      "execution_count": 14,
      "outputs": [
        {
          "output_type": "stream",
          "name": "stdout",
          "text": [
            "1.addition\n",
            "2.subtraction\n",
            "3.multiplication\n",
            "4.division\n",
            "5.modulus\n",
            "6.floor division\n",
            "7.exponent\n"
          ]
        }
      ]
    },
    {
      "cell_type": "code",
      "source": [
        "z=int(input(\"enter a number \"))\n",
        "x=int(input(\"first number \"))\n",
        "y=int(input(\"second number \"))\n",
        "if z==1:\n",
        "  print(x+y)\n",
        "if z==2:\n",
        "  print(x-y)\n",
        "if z==3:\n",
        "  print(x/y)\n",
        "if z==4:\n",
        "  print(x*y)\n",
        "if z==5:\n",
        "  print(x%y)\n",
        "if z==6:\n",
        "  print(x//y)\n",
        "if z==7:\n",
        "  print(x**y)"
      ],
      "metadata": {
        "colab": {
          "base_uri": "https://localhost:8080/"
        },
        "id": "aEIaOgEuxOnF",
        "outputId": "0e3b1e2c-6593-4743-ce01-2c6b0aa99d46"
      },
      "execution_count": 19,
      "outputs": [
        {
          "output_type": "stream",
          "name": "stdout",
          "text": [
            "enter a number 2\n",
            "first number 5\n",
            "second number 3\n",
            "2\n"
          ]
        }
      ]
    },
    {
      "cell_type": "code",
      "source": [],
      "metadata": {
        "id": "euvOR6Jiykd9"
      },
      "execution_count": null,
      "outputs": []
    }
  ]
}