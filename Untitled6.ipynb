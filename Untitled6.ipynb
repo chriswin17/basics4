{
  "nbformat": 4,
  "nbformat_minor": 0,
  "metadata": {
    "colab": {
      "provenance": [],
      "authorship_tag": "ABX9TyOhxgd9TJYi085V+l5mNTRD",
      "include_colab_link": true
    },
    "kernelspec": {
      "name": "python3",
      "display_name": "Python 3"
    },
    "language_info": {
      "name": "python"
    }
  },
  "cells": [
    {
      "cell_type": "markdown",
      "metadata": {
        "id": "view-in-github",
        "colab_type": "text"
      },
      "source": [
        "<a href=\"https://colab.research.google.com/github/chriswin17/basics4/blob/main/Untitled6.ipynb\" target=\"_parent\"><img src=\"https://colab.research.google.com/assets/colab-badge.svg\" alt=\"Open In Colab\"/></a>"
      ]
    },
    {
      "cell_type": "code",
      "execution_count": 3,
      "metadata": {
        "colab": {
          "base_uri": "https://localhost:8080/"
        },
        "id": "EVIT7biegnXp",
        "outputId": "f7226a62-a76a-40f1-90e8-d6e51a971b0e"
      },
      "outputs": [
        {
          "output_type": "stream",
          "name": "stdout",
          "text": [
            "-10\n",
            "Absolute value of  10 is 10\n"
          ]
        }
      ],
      "source": [
        "num=int(input())\n",
        "if (num>0):\n",
        "  print(\"Absolute value of \", num, \"is\",num)\n",
        "else:\n",
        "  num=num*(-1)\n",
        "  print(\"Absolute value of \", num, \"is\",num)\n"
      ]
    },
    {
      "cell_type": "code",
      "source": [
        "mark=int(input(\"Enter your mark \"))\n",
        "if(mark<25):\n",
        "  print(\"Your grade is F\")\n",
        "elif(mark>=25 and mark<=45):\n",
        "  print(\"Your grade is E\")\n",
        "elif(mark>=45 and mark<=50):\n",
        "  print(\"Your grade is D\")\n",
        "elif(mark>=50 and mark<=60):\n",
        "  print(\"Your grade is C\")\n",
        "elif(mark>=60 and mark<=80):\n",
        "  print(\"Your grade is B\")\n",
        "else:\n",
        "  print(\"Your grade is A\")"
      ],
      "metadata": {
        "colab": {
          "base_uri": "https://localhost:8080/"
        },
        "id": "CpV88smmkyrX",
        "outputId": "51cc6cc3-c8e2-4f6c-91e8-89268e22d22c"
      },
      "execution_count": 11,
      "outputs": [
        {
          "output_type": "stream",
          "name": "stdout",
          "text": [
            "Enter your mark 81\n",
            "Your grade is A\n"
          ]
        }
      ]
    },
    {
      "cell_type": "code",
      "source": [
        "n1=int(input(\"Present days \"))\n",
        "n2=int(input(\"Total days \"))\n",
        "p=n1/n2*100\n",
        "print(p)\n",
        "if p>75:\n",
        "  print(\"Student is allowed to sit in Exam\")\n",
        "else:\n",
        "  print(\"Student is not allowed to sit in exam\")\n",
        "  "
      ],
      "metadata": {
        "colab": {
          "base_uri": "https://localhost:8080/"
        },
        "id": "uzgbvmP2osTI",
        "outputId": "8e59ccee-a658-4225-b60a-c2c2d7b5493e"
      },
      "execution_count": 12,
      "outputs": [
        {
          "output_type": "stream",
          "name": "stdout",
          "text": [
            "Present days 20\n",
            "Total days 25\n",
            "80.0\n",
            "Student is allowed to sit in Exam\n"
          ]
        }
      ]
    },
    {
      "cell_type": "code",
      "source": [
        "print(\"1.addition\")\n",
        "print(\"2.subtraction\")\n",
        "print(\"3.multiplication\")\n",
        "print(\"4.division\")\n",
        "print(\"5.modulus\")\n",
        "print(\"6.floor division\")\n",
        "print(\"7.exponent\")\n",
        "z=int(input(\"enter a number \"))\n",
        "x=int(input(\"first number \"))\n",
        "y=int(input(\"second number \"))\n",
        "if z==1:\n",
        "  print(x+y)\n",
        "if z==2:\n",
        "  print(x-y)\n",
        "if z==3:\n",
        "  print(x/y)\n",
        "if z==4:\n",
        "  print(x*y)\n",
        "if z==5:\n",
        "  print(x%y)\n",
        "if z==6:\n",
        "  print(x//y)\n",
        "if z==7:\n",
        "  print(x**y)\n"
      ],
      "metadata": {
        "colab": {
          "base_uri": "https://localhost:8080/"
        },
        "id": "KJtCLDqvu0Tb",
        "outputId": "653d5586-5882-40fb-cbc2-2a307ca01884"
      },
      "execution_count": 20,
      "outputs": [
        {
          "output_type": "stream",
          "name": "stdout",
          "text": [
            "1.addition\n",
            "2.subtraction\n",
            "3.multiplication\n",
            "4.division\n",
            "5.modulus\n",
            "6.floor division\n",
            "7.exponent\n",
            "enter a number 2\n",
            "first number 4\n",
            "second number 6\n",
            "-2\n"
          ]
        }
      ]
    },
    {
      "cell_type": "code",
      "source": [
        "print(\"Basic Calculator - Enter Numbers 1-4 to choose operation: \")\n",
        "print(\"1.Add\")\n",
        "print(\"2.Substract\")\n",
        "print(\"3.Multiply\")\n",
        "print(\"4.Divide\")\n",
        "\n",
        "x=int(input(\"Enter Choice(1-4): \"))\n",
        "\n",
        "if x==1:\n",
        "    a=int(input(\"Enter First Number:\"))\n",
        "    b=int(input(\"Enter Second Number:\"))\n",
        "    c=a+b\n",
        "    print(\"Sum = \",c)\n",
        "elif x==2:\n",
        "    a=int(input(\"Enter First Number:\"))\n",
        "    b=int(input(\"Enter Second Number:\"))\n",
        "    c=a-b\n",
        "    print(\"Difference = \",c)\n",
        "elif  x==3:\n",
        "    a=int(input(\"Enter First Number:\"))\n",
        "    b=int(input(\"Enter Second Number:\"))\n",
        "    c=a*b\n",
        "    print(\"Product = \",c)\n",
        "elif x==4:\n",
        "    a=int(input(\"Enter First Number:\"))\n",
        "    b=int(input(\"Enter Second Number:\"))\n",
        "    c=a/b\n",
        "    print(\"Quotient = \",c)\n",
        "else:\n",
        "    print(\"Invalid\")\n"
      ],
      "metadata": {
        "colab": {
          "base_uri": "https://localhost:8080/"
        },
        "id": "B23_3sFD4JsQ",
        "outputId": "83fb5c7d-d037-46b3-f552-9a367bec506d"
      },
      "execution_count": 22,
      "outputs": [
        {
          "output_type": "stream",
          "name": "stdout",
          "text": [
            "Basic Calculator - Enter Numbers 1-4 to choose operation: \n",
            "1.Add\n",
            "2.Substract\n",
            "3.Multiply\n",
            "4.Divide\n",
            "Enter Choice(1-4): 3\n",
            "Enter First Number:2\n",
            "Enter Second Number:4\n",
            "Product =  8\n"
          ]
        }
      ]
    },
    {
      "cell_type": "code",
      "source": [
        "z=int(input(\"enter a number \"))\n",
        "x=int(input(\"first number \"))\n",
        "y=int(input(\"second number \"))\n",
        "if z==1:\n",
        "  print(x+y)\n",
        "if z==2:\n",
        "  print(x-y)\n",
        "if z==3:\n",
        "  print(x/y)\n",
        "if z==4:\n",
        "  print(x*y)\n",
        "if z==5:\n",
        "  print(x%y)\n",
        "if z==6:\n",
        "  print(x//y)\n",
        "if z==7:\n",
        "  print(x**y)"
      ],
      "metadata": {
        "colab": {
          "base_uri": "https://localhost:8080/"
        },
        "outputId": "0e3b1e2c-6593-4743-ce01-2c6b0aa99d46",
        "id": "zre9u88CzfZF"
      },
      "execution_count": null,
      "outputs": [
        {
          "output_type": "stream",
          "name": "stdout",
          "text": [
            "enter a number 2\n",
            "first number 5\n",
            "second number 3\n",
            "2\n"
          ]
        }
      ]
    }
  ]
}