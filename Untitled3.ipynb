{
  "nbformat": 4,
  "nbformat_minor": 0,
  "metadata": {
    "colab": {
      "provenance": [],
      "authorship_tag": "ABX9TyMny7l52SdyImXq1Cl4bkKW",
      "include_colab_link": true
    },
    "kernelspec": {
      "name": "python3",
      "display_name": "Python 3"
    },
    "language_info": {
      "name": "python"
    }
  },
  "cells": [
    {
      "cell_type": "markdown",
      "metadata": {
        "id": "view-in-github",
        "colab_type": "text"
      },
      "source": [
        "<a href=\"https://colab.research.google.com/github/chriswin17/basics4/blob/main/Untitled3.ipynb\" target=\"_parent\"><img src=\"https://colab.research.google.com/assets/colab-badge.svg\" alt=\"Open In Colab\"/></a>"
      ]
    },
    {
      "cell_type": "code",
      "source": [
        "def chriswin():\n",
        "  print(\"Hello World\")"
      ],
      "metadata": {
        "id": "rZKdo3BotE4F"
      },
      "execution_count": null,
      "outputs": []
    },
    {
      "cell_type": "code",
      "source": [
        "chriswin()"
      ],
      "metadata": {
        "colab": {
          "base_uri": "https://localhost:8080/"
        },
        "id": "1ZSUHrZ0tLQp",
        "outputId": "3ea68e0a-cc8b-4dc4-d4cb-dc22cb3be92e"
      },
      "execution_count": null,
      "outputs": [
        {
          "output_type": "stream",
          "name": "stdout",
          "text": [
            "Hello World\n"
          ]
        }
      ]
    },
    {
      "cell_type": "code",
      "source": [
        "def chriswin(x,y):\n",
        "  z=x+y\n",
        "  print(\"result = \",z)"
      ],
      "metadata": {
        "id": "02zbAvIttWEY"
      },
      "execution_count": null,
      "outputs": []
    },
    {
      "cell_type": "code",
      "source": [
        "chriswin(5,6)"
      ],
      "metadata": {
        "colab": {
          "base_uri": "https://localhost:8080/"
        },
        "id": "breYV8lxu8qI",
        "outputId": "5ac375be-db7e-48c2-d7f2-40db83c2faac"
      },
      "execution_count": null,
      "outputs": [
        {
          "output_type": "stream",
          "name": "stdout",
          "text": [
            "result =  11\n"
          ]
        }
      ]
    },
    {
      "cell_type": "code",
      "source": [
        "def chriswin(x,y):\n",
        "  z=x+y\n",
        "  print(\"result = \",z)\n",
        "chriswin(1,7)"
      ],
      "metadata": {
        "colab": {
          "base_uri": "https://localhost:8080/"
        },
        "id": "CV5Ja5mZvC1N",
        "outputId": "c1476014-8768-4631-b978-401f74502e7c"
      },
      "execution_count": null,
      "outputs": [
        {
          "output_type": "stream",
          "name": "stdout",
          "text": [
            "result =  8\n"
          ]
        }
      ]
    },
    {
      "cell_type": "code",
      "source": [
        "def chriswin(y):\n",
        "  if y<2500000:\n",
        "    print(\"No Tax\")\n",
        "  if y>2500000:\n",
        "    print(\"Tax\")"
      ],
      "metadata": {
        "id": "Dc02vzuDv7zE"
      },
      "execution_count": null,
      "outputs": []
    },
    {
      "cell_type": "code",
      "source": [
        "x=int(input(\"Enter a salary \"))\n",
        "chriswin(x)"
      ],
      "metadata": {
        "colab": {
          "base_uri": "https://localhost:8080/"
        },
        "id": "lfGSGa_1ziXy",
        "outputId": "ade32787-6bd0-471f-95b9-9ff20c542c72"
      },
      "execution_count": null,
      "outputs": [
        {
          "output_type": "stream",
          "name": "stdout",
          "text": [
            "Enter a salary 100000\n",
            "No Tax\n"
          ]
        }
      ]
    },
    {
      "cell_type": "code",
      "source": [
        "def chriswin(y):\n",
        "  k=0\n",
        "  for a in range(y):\n",
        "   k=k+a\n",
        "  print(k)\n",
        "c=int(input(\"Enter the number = \"))\n",
        "chriswin(c)"
      ],
      "metadata": {
        "id": "gcB-nhMrzsY5",
        "colab": {
          "base_uri": "https://localhost:8080/"
        },
        "outputId": "f10eeb07-6d15-41d3-b8e7-14c8fb8935a1"
      },
      "execution_count": 36,
      "outputs": [
        {
          "output_type": "stream",
          "name": "stdout",
          "text": [
            "Enter the number = 10\n",
            "45\n"
          ]
        }
      ]
    },
    {
      "cell_type": "code",
      "source": [
        "x=int(input(\"Enter the salary\"))\n",
        "y=int(input(\"Enter the salary\"))\n",
        "def add(x,y):\n",
        "  print(x+y)\n",
        "add(x,y)"
      ],
      "metadata": {
        "colab": {
          "base_uri": "https://localhost:8080/"
        },
        "id": "9tVYMZdq9_P3",
        "outputId": "cbb0ede8-2789-4b7f-f2d5-e8cb21fc22d6"
      },
      "execution_count": 38,
      "outputs": [
        {
          "output_type": "stream",
          "name": "stdout",
          "text": [
            "Enter the salary4\n",
            "Enter the salary5\n",
            "9\n"
          ]
        }
      ]
    },
    {
      "cell_type": "code",
      "source": [],
      "metadata": {
        "id": "PpJ_vJPk-eil"
      },
      "execution_count": null,
      "outputs": []
    }
  ]
}