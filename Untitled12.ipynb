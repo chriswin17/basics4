{
  "nbformat": 4,
  "nbformat_minor": 0,
  "metadata": {
    "colab": {
      "provenance": [],
      "authorship_tag": "ABX9TyPDPARqtcofJmoSd1JOTA4F",
      "include_colab_link": true
    },
    "kernelspec": {
      "name": "python3",
      "display_name": "Python 3"
    },
    "language_info": {
      "name": "python"
    }
  },
  "cells": [
    {
      "cell_type": "markdown",
      "metadata": {
        "id": "view-in-github",
        "colab_type": "text"
      },
      "source": [
        "<a href=\"https://colab.research.google.com/github/chriswin17/basics4/blob/main/Untitled12.ipynb\" target=\"_parent\"><img src=\"https://colab.research.google.com/assets/colab-badge.svg\" alt=\"Open In Colab\"/></a>"
      ]
    },
    {
      "cell_type": "code",
      "execution_count": 2,
      "metadata": {
        "id": "sKfoZeuosSLf",
        "colab": {
          "base_uri": "https://localhost:8080/"
        },
        "outputId": "a24a57ca-f24f-47d0-c186-c56d7ef9d37c"
      },
      "outputs": [
        {
          "output_type": "stream",
          "name": "stdout",
          "text": [
            "Hello World\n"
          ]
        }
      ],
      "source": [
        "def fun_name():\n",
        "  print(\"Hello World\")\n",
        "\n",
        "fun_name()"
      ]
    },
    {
      "cell_type": "code",
      "source": [
        "print(\"Fifa World Cup 2022\")"
      ],
      "metadata": {
        "colab": {
          "base_uri": "https://localhost:8080/"
        },
        "id": "KlLMSMx2s-Tv",
        "outputId": "838f3257-7041-4055-d0ac-21d5f379f91a"
      },
      "execution_count": 3,
      "outputs": [
        {
          "output_type": "stream",
          "name": "stdout",
          "text": [
            "Fifa World Cup 2022\n"
          ]
        }
      ]
    },
    {
      "cell_type": "code",
      "source": [
        "def foot_ball():\n",
        "  print(\"Fifa World Cup 2022\")\n",
        "foot_ball()"
      ],
      "metadata": {
        "colab": {
          "base_uri": "https://localhost:8080/"
        },
        "id": "mBKLPvLevKB6",
        "outputId": "522c95df-ef53-456e-d040-82ea0c0a3dcf"
      },
      "execution_count": 5,
      "outputs": [
        {
          "output_type": "stream",
          "name": "stdout",
          "text": [
            "Fifa World Cup 2022\n"
          ]
        }
      ]
    },
    {
      "cell_type": "code",
      "source": [
        "def fun_name():\n",
        "  print(\"chriswin\",\"Royston\",\"Persie\")\n",
        "fun_name()"
      ],
      "metadata": {
        "colab": {
          "base_uri": "https://localhost:8080/"
        },
        "id": "Zy8WMJBYvzfm",
        "outputId": "7450e7b3-14fa-421c-86dc-5903a36abc6c"
      },
      "execution_count": 11,
      "outputs": [
        {
          "output_type": "stream",
          "name": "stdout",
          "text": [
            "chriswin Royston Persie\n"
          ]
        }
      ]
    },
    {
      "cell_type": "code",
      "source": [
        "def fun_name():\n",
        "  print(\"Chriswin\")\n",
        "  print(\"Edwin\")\n",
        "  print(\"Schnieder\")\n",
        "fun_name()"
      ],
      "metadata": {
        "colab": {
          "base_uri": "https://localhost:8080/"
        },
        "id": "N_2HPQSMxGfi",
        "outputId": "0031221f-4a08-456e-f276-caddc91feed5"
      },
      "execution_count": 12,
      "outputs": [
        {
          "output_type": "stream",
          "name": "stdout",
          "text": [
            "Chriswin\n",
            "Edwin\n",
            "Schnieder\n"
          ]
        }
      ]
    },
    {
      "cell_type": "code",
      "source": [
        "def fun_name():\n",
        "  x=input(\"Enter the first name \")\n",
        "  y=input(\"Enter the second name \")\n",
        "  z=input(\"Enter the third name \")\n",
        "  print(x,y,z)\n",
        "fun_name()"
      ],
      "metadata": {
        "colab": {
          "base_uri": "https://localhost:8080/"
        },
        "id": "a9d-dJV5xh9d",
        "outputId": "6e0499c4-6672-49a9-b57f-1c4f380e2bd5"
      },
      "execution_count": 14,
      "outputs": [
        {
          "output_type": "stream",
          "name": "stdout",
          "text": [
            "Enter the first name Chriswin\n",
            "Enter the second name M\n",
            "Enter the third name .K\n",
            "Chriswin M .K\n"
          ]
        }
      ]
    },
    {
      "cell_type": "code",
      "source": [
        "def fav(*x):\n",
        "  print(\"Favourite Football Player\",x[1])\n",
        "fav('Rono','Me','ney')"
      ],
      "metadata": {
        "colab": {
          "base_uri": "https://localhost:8080/"
        },
        "id": "ouI2aXFKy4f-",
        "outputId": "b472d597-25bf-4647-b1d2-48e1bae827aa"
      },
      "execution_count": 15,
      "outputs": [
        {
          "output_type": "stream",
          "name": "stdout",
          "text": [
            "Favourite Football Player Me\n"
          ]
        }
      ]
    },
    {
      "cell_type": "code",
      "source": [
        "def fun_name(country=\"Germany\"):\n",
        "  print(\"I am from \" + country)\n",
        "fun_name(\"Germany\")"
      ],
      "metadata": {
        "colab": {
          "base_uri": "https://localhost:8080/"
        },
        "id": "Q_LhBj9W1Z0E",
        "outputId": "91b6c32c-3397-4654-ce8f-3701114d81fc"
      },
      "execution_count": 16,
      "outputs": [
        {
          "output_type": "stream",
          "name": "stdout",
          "text": [
            "I am from Germany\n"
          ]
        }
      ]
    },
    {
      "cell_type": "code",
      "source": [
        "def fun_name(x):\n",
        "  for y in x:\n",
        "    print(y)\n",
        "K = [\"Stansay\",\"Edward\",\"Connor\"]\n",
        "fun_name(K)"
      ],
      "metadata": {
        "colab": {
          "base_uri": "https://localhost:8080/"
        },
        "id": "cI1S4wT81wW1",
        "outputId": "3f2a44b2-82d6-4898-eec1-3424ffbdd3c8"
      },
      "execution_count": 17,
      "outputs": [
        {
          "output_type": "stream",
          "name": "stdout",
          "text": [
            "Stansay\n",
            "Edward\n",
            "Connor\n"
          ]
        }
      ]
    },
    {
      "cell_type": "code",
      "source": [
        "def fun_name(x):\n",
        "  return 5 * x\n",
        "print(fun_name(3))\n",
        "print(fun_name(5))\n",
        "print(fun_name(9))"
      ],
      "metadata": {
        "colab": {
          "base_uri": "https://localhost:8080/"
        },
        "id": "5CEgT3gY417a",
        "outputId": "e0cfd13e-f660-4cd4-de9c-309563bef6df"
      },
      "execution_count": 21,
      "outputs": [
        {
          "output_type": "stream",
          "name": "stdout",
          "text": [
            "15\n",
            "25\n",
            "45\n"
          ]
        }
      ]
    },
    {
      "cell_type": "code",
      "source": [
        "def fact(n):\n",
        "  if n <= 1:\n",
        "    return n\n",
        "  else:\n",
        "      return(fact(n-1)*n)\n",
        "print(fact(10))"
      ],
      "metadata": {
        "colab": {
          "base_uri": "https://localhost:8080/"
        },
        "id": "C-CbMrjd5xNg",
        "outputId": "bb98c5b0-e72d-4e04-f336-4c5ab41d0f81"
      },
      "execution_count": 23,
      "outputs": [
        {
          "output_type": "stream",
          "name": "stdout",
          "text": [
            "3628800\n"
          ]
        }
      ]
    },
    {
      "cell_type": "code",
      "source": [
        "def funX():\n",
        "  x = 10\n",
        "  print(\"Value inside function : \",x)\n",
        "  x=20\n",
        "  \n"
      ],
      "metadata": {
        "id": "5EKW9UUK6hfp"
      },
      "execution_count": 25,
      "outputs": []
    }
  ]
}